{
  "nbformat": 4,
  "nbformat_minor": 0,
  "metadata": {
    "colab": {
      "private_outputs": true,
      "provenance": [],
      "collapsed_sections": [
        "vncDsAP0Gaoa",
        "FJNUwmbgGyua",
        "w6K7xa23Elo4",
        "yQaldy8SH6Dl",
        "PH-0ReGfmX4f",
        "mDgbUHAGgjLW",
        "O_i_v8NEhb9l",
        "HhfV-JJviCcP",
        "Y3lxredqlCYt",
        "3RnN4peoiCZX",
        "x71ZqKXriCWQ",
        "7hBIi_osiCS2",
        "JlHwYmJAmNHm",
        "35m5QtbWiB9F",
        "PoPl-ycgm1ru",
        "H0kj-8xxnORC",
        "nA9Y7ga8ng1Z",
        "PBTbrJXOngz2",
        "u3PMJOP6ngxN",
        "dauF4eBmngu3",
        "bKJF3rekwFvQ",
        "MSa1f5Uengrz",
        "GF8Ens_Soomf",
        "0wOQAZs5pc--",
        "K5QZ13OEpz2H",
        "lQ7QKXXCp7Bj",
        "448CDAPjqfQr",
        "KSlN3yHqYklG",
        "t6dVpIINYklI",
        "ijmpgYnKYklI",
        "-JiQyfWJYklI",
        "EM7whBJCYoAo",
        "fge-S5ZAYoAp",
        "85gYPyotYoAp",
        "RoGjAbkUYoAp",
        "4Of9eVA-YrdM",
        "iky9q4vBYrdO",
        "F6T5p64dYrdO",
        "y-Ehk30pYrdP",
        "bamQiAODYuh1",
        "QHF8YVU7Yuh3",
        "GwzvFGzlYuh3",
        "qYpmQ266Yuh3",
        "OH-pJp9IphqM",
        "bbFf2-_FphqN",
        "_ouA3fa0phqN",
        "Seke61FWphqN",
        "PIIx-8_IphqN",
        "t27r6nlMphqO",
        "r2jJGEOYphqO",
        "b0JNsNcRphqO",
        "BZR9WyysphqO",
        "jj7wYXLtphqO",
        "eZrbJ2SmphqO",
        "rFu4xreNphqO",
        "YJ55k-q6phqO",
        "gCFgpxoyphqP",
        "OVtJsKN_phqQ",
        "lssrdh5qphqQ",
        "U2RJ9gkRphqQ",
        "1M8mcRywphqQ",
        "tgIPom80phqQ",
        "JMzcOPDDphqR",
        "x-EpHcCOp1ci",
        "X_VqEhTip1ck",
        "8zGJKyg5p1ck",
        "PVzmfK_Ep1ck",
        "n3dbpmDWp1ck",
        "ylSl6qgtp1ck",
        "ZWILFDl5p1ck",
        "M7G43BXep1ck",
        "Ag9LCva-p1cl",
        "E6MkPsBcp1cl",
        "2cELzS2fp1cl",
        "3MPXvC8up1cl",
        "NC_X3p0fY2L0",
        "UV0SzAkaZNRQ",
        "YPEH6qLeZNRQ",
        "q29F0dvdveiT",
        "EXh0U9oCveiU",
        "22aHeOlLveiV",
        "JcMwzZxoAimU",
        "8G2x9gOozGDZ",
        "gCX9965dhzqZ",
        "gIfDvo9L0UH2"
      ],
      "include_colab_link": true
    },
    "kernelspec": {
      "name": "python3",
      "display_name": "Python 3"
    },
    "language_info": {
      "name": "python"
    }
  },
  "cells": [
    {
      "cell_type": "markdown",
      "metadata": {
        "id": "view-in-github",
        "colab_type": "text"
      },
      "source": [
        "<a href=\"https://colab.research.google.com/github/Ravali-ganapathiraju/telecom_project/blob/main/EDA_project_on_TELECOM_CHURN_DATASET.ipynb\" target=\"_parent\"><img src=\"https://colab.research.google.com/assets/colab-badge.svg\" alt=\"Open In Colab\"/></a>"
      ]
    },
    {
      "cell_type": "markdown",
      "source": [
        " **Project Name**    - TELECOM CHURN DATA ANALYSIS\n",
        "\n"
      ],
      "metadata": {
        "id": "vncDsAP0Gaoa"
      }
    },
    {
      "cell_type": "markdown",
      "source": [
        " **Project Type**    - EDA \n",
        "\n",
        " **Contribution**    - Individual\n",
        " \n",
        " **Name**            - G.V.E.K.Ravali"
      ],
      "metadata": {
        "id": "beRrZCGUAJYm"
      }
    },
    {
      "cell_type": "markdown",
      "source": [
        "**PROBLEM STATEMENT**\n",
        "\n",
        "To find the reason behind why the customers are being churned.(churn means dropping or changing the network)"
      ],
      "metadata": {
        "id": "DpeJGUA3kjGy"
      }
    },
    {
      "cell_type": "markdown",
      "source": [
        "**Importing libraries and performing analysis**"
      ],
      "metadata": {
        "id": "HhfV-JJviCcP"
      }
    },
    {
      "cell_type": "code",
      "source": [
        "# Import Libraries\n",
        "import pandas as pd\n",
        "import numpy as np\n",
        "import matplotlib.pyplot as plt\n",
        "import seaborn as sns\n",
        "%matplotlib inline \n",
        "\n"
      ],
      "metadata": {
        "id": "M8Vqi-pPk-HR"
      },
      "execution_count": null,
      "outputs": []
    },
    {
      "cell_type": "code",
      "source": [
        "from google.colab import drive\n",
        "drive.mount('/content/drive')"
      ],
      "metadata": {
        "id": "Mxd9zyWw_uUx"
      },
      "execution_count": null,
      "outputs": []
    },
    {
      "cell_type": "code",
      "source": [
        "# Load Dataset\n",
        "Telecom_df = pd.read_csv('/content/drive/MyDrive/Telecom Churn.csv')\n",
        "\n"
      ],
      "metadata": {
        "id": "4CkvbW_SlZ_R"
      },
      "execution_count": null,
      "outputs": []
    },
    {
      "cell_type": "code",
      "source": [
        "# Dataset First Look\n",
        "Telecom_df.head(5)"
      ],
      "metadata": {
        "id": "LWNFOSvLl09H"
      },
      "execution_count": null,
      "outputs": []
    },
    {
      "cell_type": "code",
      "source": [
        "Telecom_df.tail(5)"
      ],
      "metadata": {
        "id": "P0mSfiQ1z0oY"
      },
      "execution_count": null,
      "outputs": []
    },
    {
      "cell_type": "code",
      "source": [
        "# Dataset shape\n",
        "Telecom_df.shape"
      ],
      "metadata": {
        "id": "Kllu7SJgmLij"
      },
      "execution_count": null,
      "outputs": []
    },
    {
      "cell_type": "code",
      "source": [
        "# Dataset columns \n",
        "Telecom_df.columns"
      ],
      "metadata": {
        "id": "e9hRXRi6meOf"
      },
      "execution_count": null,
      "outputs": []
    },
    {
      "cell_type": "markdown",
      "source": [
        " **Variables Description and Analysis**"
      ],
      "metadata": {
        "id": "PBTbrJXOngz2"
      }
    },
    {
      "cell_type": "markdown",
      "source": [
        "*There are a total of 20 columns or variables in our Telecom Dataset.\n",
        "\n",
        "State                  : The name of the states                      \n",
        "\n",
        "Account length         : Length of the account   \n",
        "\n",
        "Area code              : Code number of areas      \n",
        "\n",
        "International plan     : Yes if the plan is subscribed,No if the     \n",
        "plan is not subscribed.\n",
        "\n",
        "Voice mail plan        : Yes if the plan is subscribed,No if the     \n",
        "plan is not subscribed.   \n",
        "\n",
        "Number vmail messages  : Number of voice mail messages.     \n",
        "\n",
        "Total day minutes      : Total number of minutes spent in the morning.\n",
        "\n",
        "Total day calls        : Total number of calls made in the morning.\n",
        "\n",
        "Total day charge       : The charge to customers in the morning.\n",
        "\n",
        "Total eve minutes      : Total number of minutes spent in the evening.   \n",
        "\n",
        "Total eve calls        : Total number of calls made in the evening.\n",
        "\n",
        "Total eve charge       : The charge to customers in the evening.   \n",
        "\n",
        "Total night minutes    : Total number of minutes spent in the night.   \n",
        "\n",
        "Total night calls      : Total number of calls made in the night.\n",
        "\n",
        "Total night charge     : The charge to customers in the night.          \n",
        "\n",
        "Customer service calls : The number of calls made to customer service  \n",
        "by the customer.  \n",
        "\n",
        "Churn                  : True means churned customer, False means \n",
        "retained customer."
      ],
      "metadata": {
        "id": "aJV4KIxSnxay"
      }
    },
    {
      "cell_type": "code",
      "source": [
        "# Dataset columns datatypes\n",
        "Telecom_df.dtypes"
      ],
      "metadata": {
        "id": "Cn7H3Owh6UkJ"
      },
      "execution_count": null,
      "outputs": []
    },
    {
      "cell_type": "code",
      "source": [
        "# Dataset info\n",
        "Telecom_df.info()"
      ],
      "metadata": {
        "id": "UN-uZrk3BKiQ"
      },
      "execution_count": null,
      "outputs": []
    },
    {
      "cell_type": "code",
      "source": [
        "# Numerical evaluation of columns of the Dataset\n",
        "Telecom_df.describe()\n"
      ],
      "metadata": {
        "id": "XpucKfdkBZKE"
      },
      "execution_count": null,
      "outputs": []
    },
    {
      "cell_type": "markdown",
      "source": [
        "**Check for Unique and duplicate Values.**"
      ],
      "metadata": {
        "id": "u3PMJOP6ngxN"
      }
    },
    {
      "cell_type": "code",
      "source": [
        "#number of unique values in each column of Dataset\n",
        "Telecom_df.nunique()"
      ],
      "metadata": {
        "id": "zms12Yq5n-jE"
      },
      "execution_count": null,
      "outputs": []
    },
    {
      "cell_type": "code",
      "source": [
        "# considering value counts for the dependent variable\n",
        "Telecom_df.Churn.value_counts()\n"
      ],
      "metadata": {
        "id": "wk-9a2fpoLcV"
      },
      "execution_count": null,
      "outputs": []
    },
    {
      "cell_type": "code",
      "source": [
        "Telecom_df.isnull().sum()"
      ],
      "metadata": {
        "id": "iVB8ON6WCL8F"
      },
      "execution_count": null,
      "outputs": []
    },
    {
      "cell_type": "code",
      "source": [
        "#In this case we have no null values so the count in each column is 0.\n",
        "#if null values or present they might effect our dataset so we need to fill them or replace the null values."
      ],
      "metadata": {
        "id": "I-vNeLXGCMKz"
      },
      "execution_count": null,
      "outputs": []
    },
    {
      "cell_type": "code",
      "source": [
        "#checking for duplicate if any\n",
        "Telecom_df.duplicated().sum()"
      ],
      "metadata": {
        "id": "ttUlXuoBD1jV"
      },
      "execution_count": null,
      "outputs": []
    },
    {
      "cell_type": "markdown",
      "source": [
        "**The following are the insights from above analysis:**"
      ],
      "metadata": {
        "id": "MSa1f5Uengrz"
      }
    },
    {
      "cell_type": "markdown",
      "source": [
        "As of now,there are 3333 rows and 20 columns.\n",
        " \n",
        "out of which one is boolean type i.e Churn\n",
        " \n",
        "8 are float type,\n",
        "\n",
        "8 are of integer type,\n",
        "\n",
        "3 are object type which means contains categorical data in it.\n",
        "\n",
        "There are no missing values and duplicated values in the Dataset so no need of missing value evaluation or to drop the duplicates."
      ],
      "metadata": {
        "id": "LbyXE7I1olp8"
      }
    },
    {
      "cell_type": "markdown",
      "source": [
        "*** Data Vizualization, Storytelling & Experimenting with charts : Understand the relationships between variables***\n"
      ],
      "metadata": {
        "id": "GF8Ens_Soomf"
      }
    },
    {
      "cell_type": "markdown",
      "source": [
        "Analyzing the dependent variable i.e CHURN\n",
        "\n",
        "Chart - 1"
      ],
      "metadata": {
        "id": "0wOQAZs5pc--"
      }
    },
    {
      "cell_type": "code",
      "source": [
        "#  visualization code to find churn percent from total\n",
        "x=Telecom_df['Churn'].value_counts()\n",
        "plt.pie(x,explode=[0.05,0.05],autopct='%1.1f%%',startangle=90,shadow=True)\n",
        "plt.title(\"Pie chart for churn\")\n",
        "plt.show()"
      ],
      "metadata": {
        "id": "7v_ESjsspbW7"
      },
      "execution_count": null,
      "outputs": []
    },
    {
      "cell_type": "markdown",
      "source": [
        "Here I have choosen pie chart to see the percentage of people who are churned to the percentage of people who are not churned.From the above pie chart it is clear that almost 15% of the customers have churned."
      ],
      "metadata": {
        "id": "XESiWehPqBRc"
      }
    },
    {
      "cell_type": "markdown",
      "source": [
        "Analyzing the STATE column and checking if there is any relationship between STATES and CHURN \n",
        "\n",
        "Chart - 2"
      ],
      "metadata": {
        "id": "KSlN3yHqYklG"
      }
    },
    {
      "cell_type": "code",
      "source": [
        "# visualization code to see the relation between states and churn\n",
        "x=Telecom_df['State'].unique()\n",
        "y=Telecom_df.groupby(['State'])['Churn'].mean()\n",
        "plt.rcParams['figure.figsize']=(18,7)\n",
        "plt.plot(x,y,color='r',marker='o',linewidth=2)\n",
        "plt.title(\"states churn rate\",fontsize=20)\n",
        "plt.xlabel(\"state\")\n",
        "plt.ylabel(\"churn rate\")\n",
        "plt.show()"
      ],
      "metadata": {
        "id": "R4YgtaqtYklH"
      },
      "execution_count": null,
      "outputs": []
    },
    {
      "cell_type": "code",
      "source": [
        "#percentage being churned basing on state\n",
        "data=pd.crosstab(Telecom_df['State'],Telecom_df['Churn'])\n",
        "data['percentage churn']=data.apply(lambda x:x[1]*100/(x[0]+x[1]),axis=1)\n",
        "data['percentage churn'].sort_values(ascending=False).head(10)"
      ],
      "metadata": {
        "id": "PPJSu5NZFD6Z"
      },
      "execution_count": null,
      "outputs": []
    },
    {
      "cell_type": "markdown",
      "source": [
        "From the above visualization we can analyze that,\n",
        "\n",
        "There are total of 51 states\n",
        "\n",
        "From above analysis we can find the top 10 states with high churn rate i.e above 20% churn,they are NJ,CA,TX,MD,SC,MI,MS,NV,WA,ME.\n"
      ],
      "metadata": {
        "id": "J2zGQ3rlfTlF"
      }
    },
    {
      "cell_type": "markdown",
      "source": [
        "Chart - 3"
      ],
      "metadata": {
        "id": "EM7whBJCYoAo"
      }
    },
    {
      "cell_type": "code",
      "source": [
        "# visualization code\n",
        "x=Telecom_df['State'].unique()\n",
        "y=Telecom_df.groupby(['State'])['Churn'].mean()\n",
        "plt.rcParams['figure.figsize']=(18,7)\n",
        "plt.bar(x,y)\n",
        "plt.title(\"states churn rate\",fontsize=20)\n",
        "plt.xlabel(\"state\")\n",
        "plt.ylabel(\"churn rate\")\n",
        "plt.show()\n"
      ],
      "metadata": {
        "id": "t6GMdE67YoAp"
      },
      "execution_count": null,
      "outputs": []
    },
    {
      "cell_type": "markdown",
      "source": [
        "This is another way of visualizing the churn rate with respect to the states using a bar graph."
      ],
      "metadata": {
        "id": "5dBItgRVYoAp"
      }
    },
    {
      "cell_type": "markdown",
      "source": [
        "Analyzing the INTERNATIONAL PLAN column and checking if there is any relationship between the INTERNATIONAL PLAN and CHURN.\n",
        "\n",
        " Chart - 4"
      ],
      "metadata": {
        "id": "4Of9eVA-YrdM"
      }
    },
    {
      "cell_type": "code",
      "source": [
        "#taking the total counts of yes and no\n",
        "Telecom_df['International plan'].value_counts()\n"
      ],
      "metadata": {
        "id": "irlUoxc8YrdO"
      },
      "execution_count": null,
      "outputs": []
    },
    {
      "cell_type": "code",
      "source": [
        "#visualization code\n",
        "data = Telecom_df['International plan'].value_counts()\n",
        "plt.pie(data,explode=(0,0.2),autopct='%1.1f%%',radius=1,shadow=True,labels=['no','yes'])\n",
        "plt.title(\"Donut plot for International plan\")\n",
        "# add a circle at the center to transform it in a donut chart\n",
        "my_circle=plt.Circle( (0,0), 0.6, color='white')\n",
        "p=plt.gcf()\n",
        "p.gca().add_artist(my_circle)\n",
        "\n",
        "plt.show()"
      ],
      "metadata": {
        "id": "sOUMvpAr46AT"
      },
      "execution_count": null,
      "outputs": []
    },
    {
      "cell_type": "code",
      "source": [
        "#visualizing relation between churn and international plan\n",
        "sns.countplot(x='International plan',hue='Churn',data=Telecom_df,width=0.3)\n",
        "plt.title(\"Relation of CHURN and INTERNATIONAL PLAN\")\n",
        "plt.show()"
      ],
      "metadata": {
        "id": "XeL59wJC46ED"
      },
      "execution_count": null,
      "outputs": []
    },
    {
      "cell_type": "code",
      "source": [
        "#calculating internatinal plan vs churn percentage\n",
        "internatinal_plan_data=pd.crosstab(Telecom_df['International plan'],Telecom_df['Churn'])\n",
        "internatinal_plan_data['percentage churn']=internatinal_plan_data.apply(lambda x:x[1]*100/(x[0]+x[1]),axis=1)\n",
        "internatinal_plan_data"
      ],
      "metadata": {
        "id": "Uws3Gc5OB2-x"
      },
      "execution_count": null,
      "outputs": []
    },
    {
      "cell_type": "markdown",
      "source": [
        "From the above visualization the insights are as follows:\n",
        "\n",
        "*There are 3010 customers who donot have International plan\n",
        "\n",
        "*There are 323 customers who have International plan\n",
        "\n",
        "*Among those 323, 42.41% people churn\n",
        "\n",
        "*Among the 3010 only 11.49% people churn\n",
        "\n",
        "So people from International plan are churning more compared to the people without the International plan.\n",
        "\n",
        "\n"
      ],
      "metadata": {
        "id": "Wzp81K9aBNcE"
      }
    },
    {
      "cell_type": "markdown",
      "source": [
        "Analyzing CUSTOMER SERVICE CALLS and checking if there is any relationship between CUSTOMER SERVICE CALLS and CHURN.\n",
        "\n",
        "Chart - 5"
      ],
      "metadata": {
        "id": "bamQiAODYuh1"
      }
    },
    {
      "cell_type": "code",
      "source": [
        "#taking the count of customers making number of calls\n",
        "Telecom_df['Customer service calls'].value_counts()"
      ],
      "metadata": {
        "id": "TIJwrbroYuh3"
      },
      "execution_count": null,
      "outputs": []
    },
    {
      "cell_type": "code",
      "source": [
        "#visualization code\n",
        "sns.countplot(x='Customer service calls',hue='Churn',data=Telecom_df)"
      ],
      "metadata": {
        "id": "3lYojbb0P0s2"
      },
      "execution_count": null,
      "outputs": []
    },
    {
      "cell_type": "code",
      "source": [
        "#percentage churn basing on number of calls\n",
        "data=pd.crosstab(Telecom_df['Customer service calls'],Telecom_df['Churn'])\n",
        "data['percentage churn']=data.apply(lambda x:x[1]*100/(x[0]+x[1]),axis=1)\n",
        "data['percentage churn'].sort_values(ascending=False)"
      ],
      "metadata": {
        "id": "4Yy-2txAP0wf"
      },
      "execution_count": null,
      "outputs": []
    },
    {
      "cell_type": "markdown",
      "source": [
        "From the above analysis and visualization it is clear that,\n",
        "\n",
        "More the customer service calls done by the customer more is the churn rate\n",
        "\n",
        "From above data it is clear that wnhen customer service calls >= 5 then the percentage of churn is more than 50%."
      ],
      "metadata": {
        "id": "GwzvFGzlYuh3"
      }
    },
    {
      "cell_type": "markdown",
      "source": [
        "Analyzing NUMBER VMAIL MESSAGES and checking if there is relationship between NUMBER VMAIL MESSAGES and CHURN\n",
        "\n",
        "Chart - 6"
      ],
      "metadata": {
        "id": "OH-pJp9IphqM"
      }
    },
    {
      "cell_type": "code",
      "source": [
        "#visualization using a box plot\n",
        "fig=plt.figure(figsize=(8,8))\n",
        "Telecom_df.boxplot(column=['Number vmail messages'],by=['Churn'])\n",
        "plt.show()"
      ],
      "metadata": {
        "id": "kuRf4wtuphqN"
      },
      "execution_count": null,
      "outputs": []
    },
    {
      "cell_type": "markdown",
      "source": [
        "The insights from the above visualization are\n",
        "\n",
        "When vmail messages number is from 20 to 50 there is hight churn rate"
      ],
      "metadata": {
        "id": "_ouA3fa0phqN"
      }
    },
    {
      "cell_type": "markdown",
      "source": [
        " **Conclusion**"
      ],
      "metadata": {
        "id": "gCX9965dhzqZ"
      }
    },
    {
      "cell_type": "markdown",
      "source": [
        "From all the EDA i.e exploratory data analysis we made on the Telecom churn dataset using various visualizations,the following conclusions are drawn:\n",
        "\n",
        "*The variables that effect the churn rate are mostly,\n",
        "\n",
        "STATE:\n",
        "some states have hight churn rate compared to other ststes this might be because of the low network issue.\n",
        "\n",
        "INTERNATIONAL PLAN:\n",
        "Those customers with the international plan have high churn rate and also the internatinal call charges are also high which may be one of the reasons for high churn rate.\n",
        "\n",
        "NUMBER VMAIL MESSAGES:\n",
        "when the voice mail messages are more than 20 then the churn rate is increasing,the issue might be having a poor vmail quality due to network.\n",
        "\n",
        "CUSTOMER SERVICE CALLS:\n",
        "more the calls more is the churn rate,as people tend to contact customer service when there is a problem,if the issue is not sorted then the calls increase which tends to churn.\n",
        "\n",
        "The other fields are the one's which rarely or has no impact on the churn rate"
      ],
      "metadata": {
        "id": "Fjb1IsQkh3yE"
      }
    }
  ]
}